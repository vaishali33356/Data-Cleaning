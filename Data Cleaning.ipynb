{
 "cells": [
  {
   "cell_type": "markdown",
   "id": "ed5172cd-1148-4ea4-b250-ffadf1d55e42",
   "metadata": {},
   "source": [
    "### Data cleaning"
   ]
  },
  {
   "cell_type": "markdown",
   "id": "ce453710-462a-4b53-a35a-63359be148ad",
   "metadata": {},
   "source": [
    "#### To address the aspects of data integrity, missing data handling, duplicate removal, standardization, and outlier detection, \n",
    "#### we can apply various techniques using Python and libraries such as pandas, scikit-learn, and seaborn. "
   ]
  },
  {
   "cell_type": "markdown",
   "id": "44dbbbe3-7212-4398-b857-20fe5aecfd9a",
   "metadata": {},
   "source": [
    "### Importing necessary libraries"
   ]
  },
  {
   "cell_type": "code",
   "execution_count": 72,
   "id": "28e5a040-104c-4a82-b637-bd04b6f7ad38",
   "metadata": {},
   "outputs": [],
   "source": [
    "import pandas as pd\n",
    "import numpy as np\n",
    "from sklearn.preprocessing import StandardScaler\n",
    "import matplotlib.pyplot as plt\n",
    "import seaborn as sns"
   ]
  },
  {
   "cell_type": "markdown",
   "id": "6701fd15-a075-48c6-b7a1-ed9ee89173f8",
   "metadata": {},
   "source": [
    "### Loading the dataset"
   ]
  },
  {
   "cell_type": "code",
   "execution_count": 73,
   "id": "d0180aab-03fc-49fb-a474-df58c5879f99",
   "metadata": {},
   "outputs": [],
   "source": [
    "df=pd.read_csv(r\"C:\\Users\\Admin\\Downloads\\AB_NYC_2019.csv\")"
   ]
  },
  {
   "cell_type": "code",
   "execution_count": 74,
   "id": "b5b7c7c7-15db-409b-8333-2c21b22374b8",
   "metadata": {},
   "outputs": [
    {
     "data": {
      "text/html": [
       "<div>\n",
       "<style scoped>\n",
       "    .dataframe tbody tr th:only-of-type {\n",
       "        vertical-align: middle;\n",
       "    }\n",
       "\n",
       "    .dataframe tbody tr th {\n",
       "        vertical-align: top;\n",
       "    }\n",
       "\n",
       "    .dataframe thead th {\n",
       "        text-align: right;\n",
       "    }\n",
       "</style>\n",
       "<table border=\"1\" class=\"dataframe\">\n",
       "  <thead>\n",
       "    <tr style=\"text-align: right;\">\n",
       "      <th></th>\n",
       "      <th>id</th>\n",
       "      <th>name</th>\n",
       "      <th>host_id</th>\n",
       "      <th>host_name</th>\n",
       "      <th>neighbourhood_group</th>\n",
       "      <th>neighbourhood</th>\n",
       "      <th>latitude</th>\n",
       "      <th>longitude</th>\n",
       "      <th>room_type</th>\n",
       "      <th>price</th>\n",
       "      <th>minimum_nights</th>\n",
       "      <th>number_of_reviews</th>\n",
       "      <th>last_review</th>\n",
       "      <th>reviews_per_month</th>\n",
       "      <th>calculated_host_listings_count</th>\n",
       "      <th>availability_365</th>\n",
       "    </tr>\n",
       "  </thead>\n",
       "  <tbody>\n",
       "    <tr>\n",
       "      <th>0</th>\n",
       "      <td>2539</td>\n",
       "      <td>Clean &amp; quiet apt home by the park</td>\n",
       "      <td>2787</td>\n",
       "      <td>John</td>\n",
       "      <td>Brooklyn</td>\n",
       "      <td>Kensington</td>\n",
       "      <td>40.64749</td>\n",
       "      <td>-73.97237</td>\n",
       "      <td>Private room</td>\n",
       "      <td>149</td>\n",
       "      <td>1</td>\n",
       "      <td>9</td>\n",
       "      <td>19-10-2018</td>\n",
       "      <td>0.21</td>\n",
       "      <td>6</td>\n",
       "      <td>365</td>\n",
       "    </tr>\n",
       "    <tr>\n",
       "      <th>1</th>\n",
       "      <td>2595</td>\n",
       "      <td>Skylit Midtown Castle</td>\n",
       "      <td>2845</td>\n",
       "      <td>Jennifer</td>\n",
       "      <td>Manhattan</td>\n",
       "      <td>Midtown</td>\n",
       "      <td>40.75362</td>\n",
       "      <td>-73.98377</td>\n",
       "      <td>Entire home/apt</td>\n",
       "      <td>225</td>\n",
       "      <td>1</td>\n",
       "      <td>45</td>\n",
       "      <td>21-05-2019</td>\n",
       "      <td>0.38</td>\n",
       "      <td>2</td>\n",
       "      <td>355</td>\n",
       "    </tr>\n",
       "    <tr>\n",
       "      <th>2</th>\n",
       "      <td>3647</td>\n",
       "      <td>THE VILLAGE OF HARLEM....NEW YORK !</td>\n",
       "      <td>4632</td>\n",
       "      <td>Elisabeth</td>\n",
       "      <td>Manhattan</td>\n",
       "      <td>Harlem</td>\n",
       "      <td>40.80902</td>\n",
       "      <td>-73.94190</td>\n",
       "      <td>Private room</td>\n",
       "      <td>150</td>\n",
       "      <td>3</td>\n",
       "      <td>0</td>\n",
       "      <td>NaN</td>\n",
       "      <td>NaN</td>\n",
       "      <td>1</td>\n",
       "      <td>365</td>\n",
       "    </tr>\n",
       "    <tr>\n",
       "      <th>3</th>\n",
       "      <td>3831</td>\n",
       "      <td>Cozy Entire Floor of Brownstone</td>\n",
       "      <td>4869</td>\n",
       "      <td>LisaRoxanne</td>\n",
       "      <td>Brooklyn</td>\n",
       "      <td>Clinton Hill</td>\n",
       "      <td>40.68514</td>\n",
       "      <td>-73.95976</td>\n",
       "      <td>Entire home/apt</td>\n",
       "      <td>89</td>\n",
       "      <td>1</td>\n",
       "      <td>270</td>\n",
       "      <td>05-07-2019</td>\n",
       "      <td>4.64</td>\n",
       "      <td>1</td>\n",
       "      <td>194</td>\n",
       "    </tr>\n",
       "    <tr>\n",
       "      <th>4</th>\n",
       "      <td>5022</td>\n",
       "      <td>Entire Apt: Spacious Studio/Loft by central park</td>\n",
       "      <td>7192</td>\n",
       "      <td>Laura</td>\n",
       "      <td>Manhattan</td>\n",
       "      <td>East Harlem</td>\n",
       "      <td>40.79851</td>\n",
       "      <td>-73.94399</td>\n",
       "      <td>Entire home/apt</td>\n",
       "      <td>80</td>\n",
       "      <td>10</td>\n",
       "      <td>9</td>\n",
       "      <td>19-11-2018</td>\n",
       "      <td>0.10</td>\n",
       "      <td>1</td>\n",
       "      <td>0</td>\n",
       "    </tr>\n",
       "  </tbody>\n",
       "</table>\n",
       "</div>"
      ],
      "text/plain": [
       "     id                                              name  host_id  \\\n",
       "0  2539                Clean & quiet apt home by the park     2787   \n",
       "1  2595                             Skylit Midtown Castle     2845   \n",
       "2  3647               THE VILLAGE OF HARLEM....NEW YORK !     4632   \n",
       "3  3831                   Cozy Entire Floor of Brownstone     4869   \n",
       "4  5022  Entire Apt: Spacious Studio/Loft by central park     7192   \n",
       "\n",
       "     host_name neighbourhood_group neighbourhood  latitude  longitude  \\\n",
       "0         John            Brooklyn    Kensington  40.64749  -73.97237   \n",
       "1     Jennifer           Manhattan       Midtown  40.75362  -73.98377   \n",
       "2    Elisabeth           Manhattan        Harlem  40.80902  -73.94190   \n",
       "3  LisaRoxanne            Brooklyn  Clinton Hill  40.68514  -73.95976   \n",
       "4        Laura           Manhattan   East Harlem  40.79851  -73.94399   \n",
       "\n",
       "         room_type  price  minimum_nights  number_of_reviews last_review  \\\n",
       "0     Private room    149               1                  9  19-10-2018   \n",
       "1  Entire home/apt    225               1                 45  21-05-2019   \n",
       "2     Private room    150               3                  0         NaN   \n",
       "3  Entire home/apt     89               1                270  05-07-2019   \n",
       "4  Entire home/apt     80              10                  9  19-11-2018   \n",
       "\n",
       "   reviews_per_month  calculated_host_listings_count  availability_365  \n",
       "0               0.21                               6               365  \n",
       "1               0.38                               2               355  \n",
       "2                NaN                               1               365  \n",
       "3               4.64                               1               194  \n",
       "4               0.10                               1                 0  "
      ]
     },
     "execution_count": 74,
     "metadata": {},
     "output_type": "execute_result"
    }
   ],
   "source": [
    "df.head()"
   ]
  },
  {
   "cell_type": "code",
   "execution_count": 75,
   "id": "3ab8f27d-fd1a-4aaf-814e-84e0fde604b6",
   "metadata": {},
   "outputs": [
    {
     "data": {
      "text/html": [
       "<div>\n",
       "<style scoped>\n",
       "    .dataframe tbody tr th:only-of-type {\n",
       "        vertical-align: middle;\n",
       "    }\n",
       "\n",
       "    .dataframe tbody tr th {\n",
       "        vertical-align: top;\n",
       "    }\n",
       "\n",
       "    .dataframe thead th {\n",
       "        text-align: right;\n",
       "    }\n",
       "</style>\n",
       "<table border=\"1\" class=\"dataframe\">\n",
       "  <thead>\n",
       "    <tr style=\"text-align: right;\">\n",
       "      <th></th>\n",
       "      <th>id</th>\n",
       "      <th>name</th>\n",
       "      <th>host_id</th>\n",
       "      <th>host_name</th>\n",
       "      <th>neighbourhood_group</th>\n",
       "      <th>neighbourhood</th>\n",
       "      <th>latitude</th>\n",
       "      <th>longitude</th>\n",
       "      <th>room_type</th>\n",
       "      <th>price</th>\n",
       "      <th>minimum_nights</th>\n",
       "      <th>number_of_reviews</th>\n",
       "      <th>last_review</th>\n",
       "      <th>reviews_per_month</th>\n",
       "      <th>calculated_host_listings_count</th>\n",
       "      <th>availability_365</th>\n",
       "    </tr>\n",
       "  </thead>\n",
       "  <tbody>\n",
       "    <tr>\n",
       "      <th>48890</th>\n",
       "      <td>36484665</td>\n",
       "      <td>Charming one bedroom - newly renovated rowhouse</td>\n",
       "      <td>8232441</td>\n",
       "      <td>Sabrina</td>\n",
       "      <td>Brooklyn</td>\n",
       "      <td>Bedford-Stuyvesant</td>\n",
       "      <td>40.67853</td>\n",
       "      <td>-73.94995</td>\n",
       "      <td>Private room</td>\n",
       "      <td>70</td>\n",
       "      <td>2</td>\n",
       "      <td>0</td>\n",
       "      <td>NaN</td>\n",
       "      <td>NaN</td>\n",
       "      <td>2</td>\n",
       "      <td>9</td>\n",
       "    </tr>\n",
       "    <tr>\n",
       "      <th>48891</th>\n",
       "      <td>36485057</td>\n",
       "      <td>Affordable room in Bushwick/East Williamsburg</td>\n",
       "      <td>6570630</td>\n",
       "      <td>Marisol</td>\n",
       "      <td>Brooklyn</td>\n",
       "      <td>Bushwick</td>\n",
       "      <td>40.70184</td>\n",
       "      <td>-73.93317</td>\n",
       "      <td>Private room</td>\n",
       "      <td>40</td>\n",
       "      <td>4</td>\n",
       "      <td>0</td>\n",
       "      <td>NaN</td>\n",
       "      <td>NaN</td>\n",
       "      <td>2</td>\n",
       "      <td>36</td>\n",
       "    </tr>\n",
       "    <tr>\n",
       "      <th>48892</th>\n",
       "      <td>36485431</td>\n",
       "      <td>Sunny Studio at Historical Neighborhood</td>\n",
       "      <td>23492952</td>\n",
       "      <td>Ilgar &amp; Aysel</td>\n",
       "      <td>Manhattan</td>\n",
       "      <td>Harlem</td>\n",
       "      <td>40.81475</td>\n",
       "      <td>-73.94867</td>\n",
       "      <td>Entire home/apt</td>\n",
       "      <td>115</td>\n",
       "      <td>10</td>\n",
       "      <td>0</td>\n",
       "      <td>NaN</td>\n",
       "      <td>NaN</td>\n",
       "      <td>1</td>\n",
       "      <td>27</td>\n",
       "    </tr>\n",
       "    <tr>\n",
       "      <th>48893</th>\n",
       "      <td>36485609</td>\n",
       "      <td>43rd St. Time Square-cozy single bed</td>\n",
       "      <td>30985759</td>\n",
       "      <td>Taz</td>\n",
       "      <td>Manhattan</td>\n",
       "      <td>Hell's Kitchen</td>\n",
       "      <td>40.75751</td>\n",
       "      <td>-73.99112</td>\n",
       "      <td>Shared room</td>\n",
       "      <td>55</td>\n",
       "      <td>1</td>\n",
       "      <td>0</td>\n",
       "      <td>NaN</td>\n",
       "      <td>NaN</td>\n",
       "      <td>6</td>\n",
       "      <td>2</td>\n",
       "    </tr>\n",
       "    <tr>\n",
       "      <th>48894</th>\n",
       "      <td>36487245</td>\n",
       "      <td>Trendy duplex in the very heart of Hell's Kitchen</td>\n",
       "      <td>68119814</td>\n",
       "      <td>Christophe</td>\n",
       "      <td>Manhattan</td>\n",
       "      <td>Hell's Kitchen</td>\n",
       "      <td>40.76404</td>\n",
       "      <td>-73.98933</td>\n",
       "      <td>Private room</td>\n",
       "      <td>90</td>\n",
       "      <td>7</td>\n",
       "      <td>0</td>\n",
       "      <td>NaN</td>\n",
       "      <td>NaN</td>\n",
       "      <td>1</td>\n",
       "      <td>23</td>\n",
       "    </tr>\n",
       "  </tbody>\n",
       "</table>\n",
       "</div>"
      ],
      "text/plain": [
       "             id                                               name   host_id  \\\n",
       "48890  36484665    Charming one bedroom - newly renovated rowhouse   8232441   \n",
       "48891  36485057      Affordable room in Bushwick/East Williamsburg   6570630   \n",
       "48892  36485431            Sunny Studio at Historical Neighborhood  23492952   \n",
       "48893  36485609               43rd St. Time Square-cozy single bed  30985759   \n",
       "48894  36487245  Trendy duplex in the very heart of Hell's Kitchen  68119814   \n",
       "\n",
       "           host_name neighbourhood_group       neighbourhood  latitude  \\\n",
       "48890        Sabrina            Brooklyn  Bedford-Stuyvesant  40.67853   \n",
       "48891        Marisol            Brooklyn            Bushwick  40.70184   \n",
       "48892  Ilgar & Aysel           Manhattan              Harlem  40.81475   \n",
       "48893            Taz           Manhattan      Hell's Kitchen  40.75751   \n",
       "48894     Christophe           Manhattan      Hell's Kitchen  40.76404   \n",
       "\n",
       "       longitude        room_type  price  minimum_nights  number_of_reviews  \\\n",
       "48890  -73.94995     Private room     70               2                  0   \n",
       "48891  -73.93317     Private room     40               4                  0   \n",
       "48892  -73.94867  Entire home/apt    115              10                  0   \n",
       "48893  -73.99112      Shared room     55               1                  0   \n",
       "48894  -73.98933     Private room     90               7                  0   \n",
       "\n",
       "      last_review  reviews_per_month  calculated_host_listings_count  \\\n",
       "48890         NaN                NaN                               2   \n",
       "48891         NaN                NaN                               2   \n",
       "48892         NaN                NaN                               1   \n",
       "48893         NaN                NaN                               6   \n",
       "48894         NaN                NaN                               1   \n",
       "\n",
       "       availability_365  \n",
       "48890                 9  \n",
       "48891                36  \n",
       "48892                27  \n",
       "48893                 2  \n",
       "48894                23  "
      ]
     },
     "execution_count": 75,
     "metadata": {},
     "output_type": "execute_result"
    }
   ],
   "source": [
    "df.tail()"
   ]
  },
  {
   "cell_type": "code",
   "execution_count": 76,
   "id": "c1161b69-5119-4c70-a716-ed901c156623",
   "metadata": {},
   "outputs": [
    {
     "data": {
      "text/plain": [
       "(48895, 16)"
      ]
     },
     "execution_count": 76,
     "metadata": {},
     "output_type": "execute_result"
    }
   ],
   "source": [
    "df.shape"
   ]
  },
  {
   "cell_type": "code",
   "execution_count": 77,
   "id": "88c413c5-73ff-4a25-ba7d-980c48367d84",
   "metadata": {},
   "outputs": [
    {
     "name": "stdout",
     "output_type": "stream",
     "text": [
      "<class 'pandas.core.frame.DataFrame'>\n",
      "RangeIndex: 48895 entries, 0 to 48894\n",
      "Data columns (total 16 columns):\n",
      " #   Column                          Non-Null Count  Dtype  \n",
      "---  ------                          --------------  -----  \n",
      " 0   id                              48895 non-null  int64  \n",
      " 1   name                            48879 non-null  object \n",
      " 2   host_id                         48895 non-null  int64  \n",
      " 3   host_name                       48874 non-null  object \n",
      " 4   neighbourhood_group             48895 non-null  object \n",
      " 5   neighbourhood                   48895 non-null  object \n",
      " 6   latitude                        48895 non-null  float64\n",
      " 7   longitude                       48895 non-null  float64\n",
      " 8   room_type                       48895 non-null  object \n",
      " 9   price                           48895 non-null  int64  \n",
      " 10  minimum_nights                  48895 non-null  int64  \n",
      " 11  number_of_reviews               48895 non-null  int64  \n",
      " 12  last_review                     38843 non-null  object \n",
      " 13  reviews_per_month               38843 non-null  float64\n",
      " 14  calculated_host_listings_count  48895 non-null  int64  \n",
      " 15  availability_365                48895 non-null  int64  \n",
      "dtypes: float64(3), int64(7), object(6)\n",
      "memory usage: 6.0+ MB\n"
     ]
    }
   ],
   "source": [
    "df.info()"
   ]
  },
  {
   "cell_type": "code",
   "execution_count": 78,
   "id": "828f1056-b8d6-455a-bb48-25fa38510da5",
   "metadata": {},
   "outputs": [
    {
     "data": {
      "text/plain": [
       "Index(['id', 'name', 'host_id', 'host_name', 'neighbourhood_group',\n",
       "       'neighbourhood', 'latitude', 'longitude', 'room_type', 'price',\n",
       "       'minimum_nights', 'number_of_reviews', 'last_review',\n",
       "       'reviews_per_month', 'calculated_host_listings_count',\n",
       "       'availability_365'],\n",
       "      dtype='object')"
      ]
     },
     "execution_count": 78,
     "metadata": {},
     "output_type": "execute_result"
    }
   ],
   "source": [
    "df.columns"
   ]
  },
  {
   "cell_type": "code",
   "execution_count": 79,
   "id": "bec36fc6-34f8-4951-b5b0-ffc512c54a76",
   "metadata": {},
   "outputs": [
    {
     "data": {
      "text/plain": [
       "id                                  int64\n",
       "name                               object\n",
       "host_id                             int64\n",
       "host_name                          object\n",
       "neighbourhood_group                object\n",
       "neighbourhood                      object\n",
       "latitude                          float64\n",
       "longitude                         float64\n",
       "room_type                          object\n",
       "price                               int64\n",
       "minimum_nights                      int64\n",
       "number_of_reviews                   int64\n",
       "last_review                        object\n",
       "reviews_per_month                 float64\n",
       "calculated_host_listings_count      int64\n",
       "availability_365                    int64\n",
       "dtype: object"
      ]
     },
     "execution_count": 79,
     "metadata": {},
     "output_type": "execute_result"
    }
   ],
   "source": [
    "df.dtypes"
   ]
  },
  {
   "cell_type": "code",
   "execution_count": 80,
   "id": "881a932a-9802-45a3-aa6e-07a1b12eda0a",
   "metadata": {},
   "outputs": [
    {
     "data": {
      "text/plain": [
       "id                                    0\n",
       "name                                 16\n",
       "host_id                               0\n",
       "host_name                            21\n",
       "neighbourhood_group                   0\n",
       "neighbourhood                         0\n",
       "latitude                              0\n",
       "longitude                             0\n",
       "room_type                             0\n",
       "price                                 0\n",
       "minimum_nights                        0\n",
       "number_of_reviews                     0\n",
       "last_review                       10052\n",
       "reviews_per_month                 10052\n",
       "calculated_host_listings_count        0\n",
       "availability_365                      0\n",
       "dtype: int64"
      ]
     },
     "execution_count": 80,
     "metadata": {},
     "output_type": "execute_result"
    }
   ],
   "source": [
    "#check for missing values\n",
    "df.isnull().sum()\n"
   ]
  },
  {
   "cell_type": "code",
   "execution_count": 81,
   "id": "dc9e9f8f-84dc-47bd-b218-8e4551037b7f",
   "metadata": {},
   "outputs": [],
   "source": [
    "#Imputing missing values"
   ]
  },
  {
   "cell_type": "code",
   "execution_count": 82,
   "id": "0ee96ee2-05ca-473f-b19e-e7aea3d690ce",
   "metadata": {},
   "outputs": [],
   "source": [
    "specific_string = 'Unknown'\n",
    "df['name'].fillna(specific_string, inplace=True)"
   ]
  },
  {
   "cell_type": "code",
   "execution_count": 83,
   "id": "c8d08ced-2a68-4bd7-b6de-c0fa8a575d36",
   "metadata": {},
   "outputs": [],
   "source": [
    "specific_string_2 = 'Unknown'\n",
    "df['host_name'].fillna(specific_string_2, inplace=True)"
   ]
  },
  {
   "cell_type": "code",
   "execution_count": 84,
   "id": "6799f4ad-4354-4fe2-bbbf-ab5dc79ba02a",
   "metadata": {},
   "outputs": [],
   "source": [
    "df['last_review'].fillna(method='ffill',inplace=True)"
   ]
  },
  {
   "cell_type": "code",
   "execution_count": 131,
   "id": "39b2efd7-7342-46f5-9b01-e20255fbd809",
   "metadata": {},
   "outputs": [],
   "source": [
    "df.fillna(df.mean(),inplace=True)"
   ]
  },
  {
   "cell_type": "code",
   "execution_count": 98,
   "id": "b52421af-947c-49b4-8898-ea680d0f6b9b",
   "metadata": {},
   "outputs": [
    {
     "data": {
      "text/plain": [
       "id                                0\n",
       "name                              0\n",
       "host_id                           0\n",
       "host_name                         0\n",
       "neighbourhood_group               0\n",
       "neighbourhood                     0\n",
       "latitude                          0\n",
       "longitude                         0\n",
       "room_type                         0\n",
       "price                             0\n",
       "minimum_nights                    0\n",
       "number_of_reviews                 0\n",
       "last_review                       0\n",
       "reviews_per_month                 0\n",
       "calculated_host_listings_count    0\n",
       "availability_365                  0\n",
       "dtype: int64"
      ]
     },
     "execution_count": 98,
     "metadata": {},
     "output_type": "execute_result"
    }
   ],
   "source": [
    "df.isnull().sum()"
   ]
  },
  {
   "cell_type": "markdown",
   "id": "30614ccd-777e-48de-9863-193cee79c4aa",
   "metadata": {},
   "source": [
    "###  Duplicate Removal:\n",
    "#### Identifying and eliminating duplicate records helps maintain data uniqueness. We can use pandas to detect and remove duplicates:"
   ]
  },
  {
   "cell_type": "code",
   "execution_count": 87,
   "id": "393a19a9-2cbd-4a2c-bd1f-bdb30bd4d254",
   "metadata": {},
   "outputs": [
    {
     "name": "stdout",
     "output_type": "stream",
     "text": [
      "Number of duplicates: 0\n"
     ]
    }
   ],
   "source": [
    "print(\"Number of duplicates:\",df.duplicated().sum())"
   ]
  },
  {
   "cell_type": "code",
   "execution_count": 88,
   "id": "fc16e1f6-b7f4-46c5-ab38-f3fcd0a81a48",
   "metadata": {},
   "outputs": [],
   "source": [
    "df1=df[['latitude','longitude','price','minimum_nights', 'number_of_reviews','reviews_per_month', 'calculated_host_listings_count',\n",
    "       'availability_365']]"
   ]
  },
  {
   "cell_type": "code",
   "execution_count": 89,
   "id": "34a74f91-0299-42c9-8332-848d83ffa5f3",
   "metadata": {},
   "outputs": [],
   "source": [
    "#Standardization\n",
    "scaler = StandardScaler()\n",
    "df1_sc = scaler.fit_transform(df1)"
   ]
  },
  {
   "cell_type": "code",
   "execution_count": 129,
   "id": "0a3a5a0e-6f71-480d-9a72-cd95958c4a67",
   "metadata": {},
   "outputs": [
    {
     "data": {
      "text/plain": [
       "Text(0.5, 1.0, 'availability_365')"
      ]
     },
     "execution_count": 129,
     "metadata": {},
     "output_type": "execute_result"
    },
    {
     "data": {
      "image/png": "[encoded data removed]",
      "text/plain": [
       "<Figure size 800x1200 with 8 Axes>"
      ]
     },
     "metadata": {},
     "output_type": "display_data"
    }
   ],
   "source": [
    "#creating boxplots for numerical columns\n",
    "fig,ax=plt.subplots(4,2,figsize=(8,12))\n",
    "ax[0,0].boxplot(x='latitude',data=df1)\n",
    "ax[0,0].set_title(\"latitude\")\n",
    "ax[0,1].boxplot(x='longitude',data=df1)\n",
    "ax[0,1].set_title(\"longitude\")\n",
    "ax[1,0].boxplot(x='price',data=df1)\n",
    "ax[1,0].set_title(\"price\")\n",
    "ax[1,1].boxplot(x='minimum_nights',data=df1)\n",
    "ax[1,1].set_title(\"'minimum_nights\")\n",
    "ax[2,0].boxplot(x='number_of_reviews',data=df1)\n",
    "ax[2,0].set_title(\"number_of_reviews\")\n",
    "ax[2,1].boxplot(x='reviews_per_month',data=df1)\n",
    "ax[2,1].set_title(\"reviews_per_month\")\n",
    "ax[3,0].boxplot(x='calculated_host_listings_count',data=df1)\n",
    "ax[3,0].set_title(\"calculated_host_listings_count\")\n",
    "ax[3,1].boxplot(x='availability_365',data=df1)\n",
    "ax[3,1].set_title(\"availability_365\")"
   ]
  },
  {
   "cell_type": "code",
   "execution_count": 128,
   "id": "ab4b5819-14f7-4d2c-a7dc-5e6ca598478c",
   "metadata": {},
   "outputs": [
    {
     "data": {
      "text/plain": [
       "<Axes: xlabel='price'>"
      ]
     },
     "execution_count": 128,
     "metadata": {},
     "output_type": "execute_result"
    },
    {
     "data": {
      "image/png": "[encoded data removed]",
      "text/plain": [
       "<Figure size 640x480 with 1 Axes>"
      ]
     },
     "metadata": {},
     "output_type": "display_data"
    }
   ],
   "source": [
    "sns.boxplot(x='price',data=df)"
   ]
  },
  {
   "cell_type": "code",
   "execution_count": 92,
   "id": "ec3630f4-0bd6-46a5-9a4a-553515cdce3e",
   "metadata": {},
   "outputs": [
    {
     "name": "stdout",
     "output_type": "stream",
     "text": [
      "Q1 :  69.0\n",
      "Q3 :  175.0\n",
      "Inter Quartile Range :  106.0\n"
     ]
    }
   ],
   "source": [
    "# Calculate the IQR\n",
    "Q1=df['price'].quantile(0.25)\n",
    "Q3=df['price'].quantile(0.75)\n",
    "IQR=Q3-Q1\n",
    "print(\"Q1 : \",Q1)\n",
    "print(\"Q3 : \",Q3)\n",
    "print(\"Inter Quartile Range : \",IQR)"
   ]
  },
  {
   "cell_type": "code",
   "execution_count": 93,
   "id": "56ac933d-46dd-4d58-88fb-40806f6e59ab",
   "metadata": {},
   "outputs": [
    {
     "name": "stdout",
     "output_type": "stream",
     "text": [
      "Lower bound value: -90.0\n",
      "Upper bound value: 334.0\n"
     ]
    }
   ],
   "source": [
    "# Determine outliers using the IQR method\n",
    "lower_bound = Q1 - 1.5 * IQR\n",
    "upper_bound = Q3 + 1.5 * IQR\n",
    "outliers = (df['price'] < lower_bound) | (df['price'] > upper_bound)\n",
    "print(\"Lower bound value:\",lower_bound)\n",
    "print(\"Upper bound value:\",upper_bound)"
   ]
  },
  {
   "cell_type": "code",
   "execution_count": 94,
   "id": "29509227-6177-4f8d-8133-dd2e4f33dece",
   "metadata": {},
   "outputs": [
    {
     "data": {
      "text/html": [
       "<div>\n",
       "<style scoped>\n",
       "    .dataframe tbody tr th:only-of-type {\n",
       "        vertical-align: middle;\n",
       "    }\n",
       "\n",
       "    .dataframe tbody tr th {\n",
       "        vertical-align: top;\n",
       "    }\n",
       "\n",
       "    .dataframe thead th {\n",
       "        text-align: right;\n",
       "    }\n",
       "</style>\n",
       "<table border=\"1\" class=\"dataframe\">\n",
       "  <thead>\n",
       "    <tr style=\"text-align: right;\">\n",
       "      <th></th>\n",
       "      <th>id</th>\n",
       "      <th>name</th>\n",
       "      <th>host_id</th>\n",
       "      <th>host_name</th>\n",
       "      <th>neighbourhood_group</th>\n",
       "      <th>neighbourhood</th>\n",
       "      <th>latitude</th>\n",
       "      <th>longitude</th>\n",
       "      <th>room_type</th>\n",
       "      <th>price</th>\n",
       "      <th>minimum_nights</th>\n",
       "      <th>number_of_reviews</th>\n",
       "      <th>last_review</th>\n",
       "      <th>reviews_per_month</th>\n",
       "      <th>calculated_host_listings_count</th>\n",
       "      <th>availability_365</th>\n",
       "    </tr>\n",
       "  </thead>\n",
       "  <tbody>\n",
       "    <tr>\n",
       "      <th>61</th>\n",
       "      <td>15396</td>\n",
       "      <td>Sunny &amp; Spacious Chelsea Apartment</td>\n",
       "      <td>60278</td>\n",
       "      <td>Petra</td>\n",
       "      <td>Manhattan</td>\n",
       "      <td>Chelsea</td>\n",
       "      <td>40.74623</td>\n",
       "      <td>-73.99530</td>\n",
       "      <td>Entire home/apt</td>\n",
       "      <td>375</td>\n",
       "      <td>180</td>\n",
       "      <td>5</td>\n",
       "      <td>03-11-2018</td>\n",
       "      <td>0.120000</td>\n",
       "      <td>1</td>\n",
       "      <td>180</td>\n",
       "    </tr>\n",
       "    <tr>\n",
       "      <th>85</th>\n",
       "      <td>19601</td>\n",
       "      <td>perfect for a family or small group</td>\n",
       "      <td>74303</td>\n",
       "      <td>Maggie</td>\n",
       "      <td>Brooklyn</td>\n",
       "      <td>Brooklyn Heights</td>\n",
       "      <td>40.69723</td>\n",
       "      <td>-73.99268</td>\n",
       "      <td>Entire home/apt</td>\n",
       "      <td>800</td>\n",
       "      <td>1</td>\n",
       "      <td>25</td>\n",
       "      <td>04-08-2016</td>\n",
       "      <td>0.240000</td>\n",
       "      <td>1</td>\n",
       "      <td>7</td>\n",
       "    </tr>\n",
       "    <tr>\n",
       "      <th>103</th>\n",
       "      <td>23686</td>\n",
       "      <td>2000 SF 3br 2bath West Village private  townhouse</td>\n",
       "      <td>93790</td>\n",
       "      <td>Ann</td>\n",
       "      <td>Manhattan</td>\n",
       "      <td>West Village</td>\n",
       "      <td>40.73096</td>\n",
       "      <td>-74.00319</td>\n",
       "      <td>Entire home/apt</td>\n",
       "      <td>500</td>\n",
       "      <td>4</td>\n",
       "      <td>46</td>\n",
       "      <td>18-05-2019</td>\n",
       "      <td>0.550000</td>\n",
       "      <td>2</td>\n",
       "      <td>243</td>\n",
       "    </tr>\n",
       "    <tr>\n",
       "      <th>114</th>\n",
       "      <td>26933</td>\n",
       "      <td>2 BR / 2 Bath Duplex Apt with patio! East Village</td>\n",
       "      <td>72062</td>\n",
       "      <td>Bruce</td>\n",
       "      <td>Manhattan</td>\n",
       "      <td>East Village</td>\n",
       "      <td>40.72540</td>\n",
       "      <td>-73.98157</td>\n",
       "      <td>Entire home/apt</td>\n",
       "      <td>350</td>\n",
       "      <td>2</td>\n",
       "      <td>7</td>\n",
       "      <td>09-08-2017</td>\n",
       "      <td>0.060000</td>\n",
       "      <td>4</td>\n",
       "      <td>298</td>\n",
       "    </tr>\n",
       "    <tr>\n",
       "      <th>121</th>\n",
       "      <td>27659</td>\n",
       "      <td>3 Story Town House in Park Slope</td>\n",
       "      <td>119588</td>\n",
       "      <td>Vero</td>\n",
       "      <td>Brooklyn</td>\n",
       "      <td>South Slope</td>\n",
       "      <td>40.66499</td>\n",
       "      <td>-73.97925</td>\n",
       "      <td>Entire home/apt</td>\n",
       "      <td>400</td>\n",
       "      <td>2</td>\n",
       "      <td>16</td>\n",
       "      <td>30-12-2018</td>\n",
       "      <td>0.240000</td>\n",
       "      <td>2</td>\n",
       "      <td>216</td>\n",
       "    </tr>\n",
       "    <tr>\n",
       "      <th>...</th>\n",
       "      <td>...</td>\n",
       "      <td>...</td>\n",
       "      <td>...</td>\n",
       "      <td>...</td>\n",
       "      <td>...</td>\n",
       "      <td>...</td>\n",
       "      <td>...</td>\n",
       "      <td>...</td>\n",
       "      <td>...</td>\n",
       "      <td>...</td>\n",
       "      <td>...</td>\n",
       "      <td>...</td>\n",
       "      <td>...</td>\n",
       "      <td>...</td>\n",
       "      <td>...</td>\n",
       "      <td>...</td>\n",
       "    </tr>\n",
       "    <tr>\n",
       "      <th>48758</th>\n",
       "      <td>36420289</td>\n",
       "      <td>Rustic Garden House Apt, 2 stops from Manhattan</td>\n",
       "      <td>73211393</td>\n",
       "      <td>LaGabrell</td>\n",
       "      <td>Queens</td>\n",
       "      <td>Long Island City</td>\n",
       "      <td>40.75508</td>\n",
       "      <td>-73.93258</td>\n",
       "      <td>Entire home/apt</td>\n",
       "      <td>350</td>\n",
       "      <td>2</td>\n",
       "      <td>0</td>\n",
       "      <td>07-07-2019</td>\n",
       "      <td>1.373221</td>\n",
       "      <td>1</td>\n",
       "      <td>364</td>\n",
       "    </tr>\n",
       "    <tr>\n",
       "      <th>48833</th>\n",
       "      <td>36450896</td>\n",
       "      <td>Brand New 3-Bed Apt in the Best Location of FiDi</td>\n",
       "      <td>29741813</td>\n",
       "      <td>Yue</td>\n",
       "      <td>Manhattan</td>\n",
       "      <td>Financial District</td>\n",
       "      <td>40.70605</td>\n",
       "      <td>-74.01042</td>\n",
       "      <td>Entire home/apt</td>\n",
       "      <td>475</td>\n",
       "      <td>2</td>\n",
       "      <td>0</td>\n",
       "      <td>07-07-2019</td>\n",
       "      <td>1.373221</td>\n",
       "      <td>1</td>\n",
       "      <td>64</td>\n",
       "    </tr>\n",
       "    <tr>\n",
       "      <th>48839</th>\n",
       "      <td>36452721</td>\n",
       "      <td>Massage Spa. Stay overnight. Authors Artist dr...</td>\n",
       "      <td>274079964</td>\n",
       "      <td>Richard</td>\n",
       "      <td>Brooklyn</td>\n",
       "      <td>Sheepshead Bay</td>\n",
       "      <td>40.59866</td>\n",
       "      <td>-73.95661</td>\n",
       "      <td>Private room</td>\n",
       "      <td>800</td>\n",
       "      <td>1</td>\n",
       "      <td>0</td>\n",
       "      <td>07-07-2019</td>\n",
       "      <td>1.373221</td>\n",
       "      <td>1</td>\n",
       "      <td>23</td>\n",
       "    </tr>\n",
       "    <tr>\n",
       "      <th>48842</th>\n",
       "      <td>36453160</td>\n",
       "      <td>LUXURY MANHATTAN PENTHOUSE+HUDSON RIVER+EMPIRE...</td>\n",
       "      <td>224171371</td>\n",
       "      <td>LuxuryApartmentsByAmber</td>\n",
       "      <td>Manhattan</td>\n",
       "      <td>Chelsea</td>\n",
       "      <td>40.75204</td>\n",
       "      <td>-74.00292</td>\n",
       "      <td>Entire home/apt</td>\n",
       "      <td>350</td>\n",
       "      <td>1</td>\n",
       "      <td>0</td>\n",
       "      <td>07-07-2019</td>\n",
       "      <td>1.373221</td>\n",
       "      <td>1</td>\n",
       "      <td>9</td>\n",
       "    </tr>\n",
       "    <tr>\n",
       "      <th>48856</th>\n",
       "      <td>36457700</td>\n",
       "      <td>Large 3 bed, 2 bath , garden , bbq , all you need</td>\n",
       "      <td>66993395</td>\n",
       "      <td>Thomas</td>\n",
       "      <td>Brooklyn</td>\n",
       "      <td>Bedford-Stuyvesant</td>\n",
       "      <td>40.68886</td>\n",
       "      <td>-73.92879</td>\n",
       "      <td>Entire home/apt</td>\n",
       "      <td>345</td>\n",
       "      <td>4</td>\n",
       "      <td>0</td>\n",
       "      <td>08-07-2019</td>\n",
       "      <td>1.373221</td>\n",
       "      <td>3</td>\n",
       "      <td>354</td>\n",
       "    </tr>\n",
       "  </tbody>\n",
       "</table>\n",
       "<p>2972 rows × 16 columns</p>\n",
       "</div>"
      ],
      "text/plain": [
       "             id                                               name    host_id  \\\n",
       "61        15396                 Sunny & Spacious Chelsea Apartment      60278   \n",
       "85        19601                perfect for a family or small group      74303   \n",
       "103       23686  2000 SF 3br 2bath West Village private  townhouse      93790   \n",
       "114       26933  2 BR / 2 Bath Duplex Apt with patio! East Village      72062   \n",
       "121       27659                   3 Story Town House in Park Slope     119588   \n",
       "...         ...                                                ...        ...   \n",
       "48758  36420289    Rustic Garden House Apt, 2 stops from Manhattan   73211393   \n",
       "48833  36450896   Brand New 3-Bed Apt in the Best Location of FiDi   29741813   \n",
       "48839  36452721  Massage Spa. Stay overnight. Authors Artist dr...  274079964   \n",
       "48842  36453160  LUXURY MANHATTAN PENTHOUSE+HUDSON RIVER+EMPIRE...  224171371   \n",
       "48856  36457700  Large 3 bed, 2 bath , garden , bbq , all you need   66993395   \n",
       "\n",
       "                     host_name neighbourhood_group       neighbourhood  \\\n",
       "61                       Petra           Manhattan             Chelsea   \n",
       "85                      Maggie            Brooklyn    Brooklyn Heights   \n",
       "103                        Ann           Manhattan        West Village   \n",
       "114                      Bruce           Manhattan        East Village   \n",
       "121                       Vero            Brooklyn         South Slope   \n",
       "...                        ...                 ...                 ...   \n",
       "48758                LaGabrell              Queens    Long Island City   \n",
       "48833                      Yue           Manhattan  Financial District   \n",
       "48839                  Richard            Brooklyn      Sheepshead Bay   \n",
       "48842  LuxuryApartmentsByAmber           Manhattan             Chelsea   \n",
       "48856                   Thomas            Brooklyn  Bedford-Stuyvesant   \n",
       "\n",
       "       latitude  longitude        room_type  price  minimum_nights  \\\n",
       "61     40.74623  -73.99530  Entire home/apt    375             180   \n",
       "85     40.69723  -73.99268  Entire home/apt    800               1   \n",
       "103    40.73096  -74.00319  Entire home/apt    500               4   \n",
       "114    40.72540  -73.98157  Entire home/apt    350               2   \n",
       "121    40.66499  -73.97925  Entire home/apt    400               2   \n",
       "...         ...        ...              ...    ...             ...   \n",
       "48758  40.75508  -73.93258  Entire home/apt    350               2   \n",
       "48833  40.70605  -74.01042  Entire home/apt    475               2   \n",
       "48839  40.59866  -73.95661     Private room    800               1   \n",
       "48842  40.75204  -74.00292  Entire home/apt    350               1   \n",
       "48856  40.68886  -73.92879  Entire home/apt    345               4   \n",
       "\n",
       "       number_of_reviews last_review  reviews_per_month  \\\n",
       "61                     5  03-11-2018           0.120000   \n",
       "85                    25  04-08-2016           0.240000   \n",
       "103                   46  18-05-2019           0.550000   \n",
       "114                    7  09-08-2017           0.060000   \n",
       "121                   16  30-12-2018           0.240000   \n",
       "...                  ...         ...                ...   \n",
       "48758                  0  07-07-2019           1.373221   \n",
       "48833                  0  07-07-2019           1.373221   \n",
       "48839                  0  07-07-2019           1.373221   \n",
       "48842                  0  07-07-2019           1.373221   \n",
       "48856                  0  08-07-2019           1.373221   \n",
       "\n",
       "       calculated_host_listings_count  availability_365  \n",
       "61                                  1               180  \n",
       "85                                  1                 7  \n",
       "103                                 2               243  \n",
       "114                                 4               298  \n",
       "121                                 2               216  \n",
       "...                               ...               ...  \n",
       "48758                               1               364  \n",
       "48833                               1                64  \n",
       "48839                               1                23  \n",
       "48842                               1                 9  \n",
       "48856                               3               354  \n",
       "\n",
       "[2972 rows x 16 columns]"
      ]
     },
     "execution_count": 94,
     "metadata": {},
     "output_type": "execute_result"
    }
   ],
   "source": [
    "df.loc[df['price']>upper_bound]"
   ]
  },
  {
   "cell_type": "code",
   "execution_count": 95,
   "id": "f992d9b1-6ed9-4efe-a9bc-3927e3c4b34c",
   "metadata": {},
   "outputs": [
    {
     "data": {
      "text/html": [
       "<div>\n",
       "<style scoped>\n",
       "    .dataframe tbody tr th:only-of-type {\n",
       "        vertical-align: middle;\n",
       "    }\n",
       "\n",
       "    .dataframe tbody tr th {\n",
       "        vertical-align: top;\n",
       "    }\n",
       "\n",
       "    .dataframe thead th {\n",
       "        text-align: right;\n",
       "    }\n",
       "</style>\n",
       "<table border=\"1\" class=\"dataframe\">\n",
       "  <thead>\n",
       "    <tr style=\"text-align: right;\">\n",
       "      <th></th>\n",
       "      <th>id</th>\n",
       "      <th>name</th>\n",
       "      <th>host_id</th>\n",
       "      <th>host_name</th>\n",
       "      <th>neighbourhood_group</th>\n",
       "      <th>neighbourhood</th>\n",
       "      <th>latitude</th>\n",
       "      <th>longitude</th>\n",
       "      <th>room_type</th>\n",
       "      <th>price</th>\n",
       "      <th>minimum_nights</th>\n",
       "      <th>number_of_reviews</th>\n",
       "      <th>last_review</th>\n",
       "      <th>reviews_per_month</th>\n",
       "      <th>calculated_host_listings_count</th>\n",
       "      <th>availability_365</th>\n",
       "    </tr>\n",
       "  </thead>\n",
       "  <tbody>\n",
       "  </tbody>\n",
       "</table>\n",
       "</div>"
      ],
      "text/plain": [
       "Empty DataFrame\n",
       "Columns: [id, name, host_id, host_name, neighbourhood_group, neighbourhood, latitude, longitude, room_type, price, minimum_nights, number_of_reviews, last_review, reviews_per_month, calculated_host_listings_count, availability_365]\n",
       "Index: []"
      ]
     },
     "execution_count": 95,
     "metadata": {},
     "output_type": "execute_result"
    }
   ],
   "source": [
    "df.loc[df['price']<lower_bound]"
   ]
  },
  {
   "cell_type": "code",
   "execution_count": 130,
   "id": "d7e41908-22b9-45ab-b5bc-83d49a53aefb",
   "metadata": {},
   "outputs": [],
   "source": [
    "#Imputing outliers\n",
    "df.loc[df['price']>upper_bound]=np.mean(df['price'])"
   ]
  },
  {
   "cell_type": "code",
   "execution_count": 97,
   "id": "995f7004-2c65-4a7e-83a7-268471044c00",
   "metadata": {},
   "outputs": [
    {
     "data": {
      "text/plain": [
       "id                                                                        3185489.0\n",
       "name                              Private Bedroom in Nice Apt. Near Riverside Park!\n",
       "host_id                                                                  16142344.0\n",
       "host_name                                                                   Jeffrey\n",
       "neighbourhood_group                                                       Manhattan\n",
       "neighbourhood                                                                Harlem\n",
       "latitude                                                                   40.82165\n",
       "longitude                                                                 -73.95491\n",
       "room_type                                                              Private room\n",
       "price                                                                          70.0\n",
       "minimum_nights                                                                  3.0\n",
       "number_of_reviews                                                              16.0\n",
       "last_review                                                              31-07-2016\n",
       "reviews_per_month                                                              0.26\n",
       "calculated_host_listings_count                                                  1.0\n",
       "availability_365                                                              209.0\n",
       "Name: 4567, dtype: object"
      ]
     },
     "execution_count": 97,
     "metadata": {},
     "output_type": "execute_result"
    }
   ],
   "source": [
    "df.loc[4567,:]"
   ]
  }
 ],
 "metadata": {
  "kernelspec": {
   "display_name": "Python 3 (ipykernel)",
   "language": "python",
   "name": "python3"
  },
  "language_info": {
   "codemirror_mode": {
    "name": "ipython",
    "version": 3
   },
   "file_extension": ".py",
   "mimetype": "text/x-python",
   "name": "python",
   "nbconvert_exporter": "python",
   "pygments_lexer": "ipython3",
   "version": "3.11.2"
  }
 },
 "nbformat": 4,
 "nbformat_minor": 5
}
